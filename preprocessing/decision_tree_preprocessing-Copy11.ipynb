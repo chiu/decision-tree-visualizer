{
 "cells": [
  {
   "cell_type": "code",
   "execution_count": null,
   "metadata": {
    "collapsed": true
   },
   "outputs": [],
   "source": [
    "import sklearn.datasets as datasets\n",
    "import pandas as pd\n",
    "from sklearn.externals.six import StringIO  \n",
    "from IPython.display import Image  \n",
    "from sklearn.tree import export_graphviz\n",
    "import pydotplus\n",
    "from sklearn.externals.six import StringIO  \n",
    "from IPython.display import Image  \n",
    "from sklearn.tree import export_graphviz\n",
    "import pydotplus\n",
    "from sklearn.tree import DecisionTreeClassifier\n",
    "from sklearn.model_selection import train_test_split\n",
    "\n",
    "import numpy as np\n",
    "import matplotlib.pyplot as plt\n",
    "\n",
    "original_df=pd.read_csv('../data/zoo-animal-classification/zoo.csv', index_col=False)\n",
    "class_names_df = pd.read_csv('../data/zoo-animal-classification/class.csv', index_col=False)\n",
    "class_only = class_names_df[['Class_Number', 'Class_Type']]\n",
    "class_only = class_only.rename(columns={'Class_Number': 'class_type', \"Class_Type\": \"class_name\"})\n",
    "df = pd.merge(original_df, class_only, on='class_type', how='outer')\n",
    "y=df['class_name']\n",
    "\n",
    "df_class = df.copy()\n",
    "\n",
    "del df['class_name']\n",
    "del df['class_type']"
   ]
  },
  {
   "cell_type": "code",
   "execution_count": null,
   "metadata": {
    "collapsed": true
   },
   "outputs": [],
   "source": [
    "\n",
    "\n",
    "df_bool = df.copy()\n",
    "# df_bool"
   ]
  },
  {
   "cell_type": "code",
   "execution_count": null,
   "metadata": {
    "collapsed": true
   },
   "outputs": [],
   "source": [
    "X_train, X_test, y_train, y_test = train_test_split(df_bool, y, test_size=0.33, random_state=1)\n",
    "X_test_with_animal_name = X_test.copy()\n",
    "del X_train['animal_name']\n",
    "del X_test['animal_name']\n",
    "df_bool.shape\n",
    "X_train.shape"
   ]
  },
  {
   "cell_type": "code",
   "execution_count": null,
   "metadata": {
    "collapsed": true
   },
   "outputs": [],
   "source": [
    "dtree=DecisionTreeClassifier()\n",
    "dtree.fit(X_train,y_train)\n",
    "dot_data = StringIO()\n",
    "class_names=list(class_only['class_name'].unique())\n",
    "class_names.sort()\n",
    "export_graphviz(dtree, out_file=dot_data,  \n",
    "                filled=True, rounded=True,\n",
    "                special_characters=True, proportion=False, feature_names = X_train.columns, node_ids=True, class_names=class_names)\n",
    "\n",
    "graph = pydotplus.graph_from_dot_data(dot_data.getvalue())  \n",
    "Image(graph.create_png())"
   ]
  },
  {
   "cell_type": "code",
   "execution_count": null,
   "metadata": {
    "collapsed": true
   },
   "outputs": [],
   "source": [
    "from sklearn.metrics import accuracy_score\n",
    "y_pred = dtree.predict(X_test)\n",
    "accuracy_score(y_test, y_pred)"
   ]
  },
  {
   "cell_type": "code",
   "execution_count": null,
   "metadata": {
    "collapsed": true
   },
   "outputs": [],
   "source": [
    "X_test_with_animal_name['y_pred']=y_pred\n",
    "X_test_with_animal_name['y_test']=y_test\n",
    "X_test_with_animal_name[X_test_with_animal_name['y_pred']!=X_test_with_animal_name['y_test']]"
   ]
  },
  {
   "cell_type": "code",
   "execution_count": null,
   "metadata": {
    "collapsed": true
   },
   "outputs": [],
   "source": [
    "dtree=DecisionTreeClassifier()\n",
    "dtree.fit(X_train,y_train)\n",
    "dot_data = StringIO()\n",
    "class_names=list(class_only['class_name'].unique())\n",
    "class_names.sort()\n",
    "export_graphviz(dtree, out_file=dot_data,  \n",
    "                filled=True, rounded=True,\n",
    "                special_characters=True, proportion=False, feature_names = X_train.columns, node_ids=False, class_names=class_names)\n",
    "\n",
    "graph = pydotplus.graph_from_dot_data(dot_data.getvalue())  \n",
    "Image(graph.create_png())\n"
   ]
  },
  {
   "cell_type": "code",
   "execution_count": null,
   "metadata": {
    "collapsed": true
   },
   "outputs": [],
   "source": [
    "class_names = list(class_only['class_name'])"
   ]
  },
  {
   "cell_type": "code",
   "execution_count": null,
   "metadata": {
    "collapsed": true
   },
   "outputs": [],
   "source": [
    "class_names.sort()\n",
    "class_names"
   ]
  },
  {
   "cell_type": "code",
   "execution_count": null,
   "metadata": {
    "collapsed": true
   },
   "outputs": [],
   "source": [
    "del df_class['animal_name']"
   ]
  },
  {
   "cell_type": "code",
   "execution_count": null,
   "metadata": {
    "collapsed": true
   },
   "outputs": [],
   "source": [
    "import matplotlib.pyplot as plt\n",
    "\n",
    "def make_attribute_view(df_class, filename):\n",
    "    gini_df = pd.DataFrame()\n",
    "    oFig1 = plt.figure(1, figsize=(20,80))\n",
    "       #(m,n,x) -> x starts with 1\n",
    "    ...\n",
    "    # iterating through every column in datafarme\n",
    "    plot_index = 1\n",
    "    \n",
    "    for temp_class_name in df_class.columns:\n",
    "        unique_col_values =list(df_class[temp_class_name].unique())\n",
    "        unique_col_values.sort()\n",
    "\n",
    "        if unique_col_values==[0,1]:\n",
    "            # for a given column; plot distribution for every possible value\n",
    "\n",
    "            gini_split=0\n",
    "            num_at_record = df_class.shape[0]\n",
    "            for i in range(0, len(unique_col_values)):\n",
    "                unique_col_value = unique_col_values[i]\n",
    "                temp_df = df_class[df_class[temp_class_name]==unique_col_value]\n",
    "                values = []\n",
    "                gini_score = 1.0\n",
    "                num_at_child = float(temp_df.shape[0])\n",
    "                for class_name in class_names:\n",
    "                    count = temp_df[temp_df['class_name']==class_name].shape[0]\n",
    "                    gini_score -= (float(count)/num_at_child)**2\n",
    "                    values.append(count)\n",
    "                    \n",
    "                gini_split+=gini_score*(num_at_child/num_at_record)\n",
    "                print(values)\n",
    "                new = oFig1.add_subplot(20,2, plot_index)   \n",
    "                new.bar(class_names, values)\n",
    "                new.set_title(temp_class_name + \" is \" + str(unique_col_value) + \" gini: \" + f'{gini_score:.2f}' + \" gini split: \" + f'{gini_split:.2f}', fontsize=20)\n",
    "                plot_index+=1\n",
    "                temp_row = {'column_name': temp_class_name, 'column_value': unique_col_value, 'gini_score': gini_score, 'num_at_child': num_at_child, 'num_at_record': num_at_record, 'distribution': values }\n",
    "                gini_df = gini_df.append(temp_row, ignore_index=True)\n",
    "    plt.show()\n",
    "\n",
    "    return gini_df\n",
    "gini_df = make_attribute_view(df_class, 'milk')\n",
    "gini_df"
   ]
  },
  {
   "cell_type": "code",
   "execution_count": null,
   "metadata": {
    "collapsed": true
   },
   "outputs": [],
   "source": [
    "num_at_record = df_class.shape[0]\n",
    "gini_df['proportion'] =  gini_df['num_at_child'] * gini_df['gini_score'] \n",
    "gini_splits = gini_df.groupby('column_name')['proportion'].sum()/num_at_record\n",
    "gini_split_df = gini_splits.reset_index().sort_values('proportion').rename(index=str, columns={'proportion': 'gini_split'})"
   ]
  },
  {
   "cell_type": "code",
   "execution_count": null,
   "metadata": {
    "collapsed": true
   },
   "outputs": [],
   "source": [
    "gini_split_df = gini_split_df[['column_name', 'gini_split']]\n",
    "gini_split_df"
   ]
  },
  {
   "cell_type": "code",
   "execution_count": null,
   "metadata": {
    "collapsed": true
   },
   "outputs": [],
   "source": [
    "gini_split_df = gini_df.merge(gini_split_df, on='column_name').sort_values(['gini_split', 'column_value'])\n",
    "gini_split_df"
   ]
  },
  {
   "cell_type": "code",
   "execution_count": null,
   "metadata": {
    "collapsed": true
   },
   "outputs": [],
   "source": [
    "def make_attribute_plots(gini_split_df, filename):\n",
    "\n",
    "    oFig1 = plt.figure(1, figsize=(20,80))\n",
    "#     filename = 'node0'\n",
    "\n",
    "    plot_index = 1\n",
    "    for index, row in gini_split_df.iterrows():\n",
    "        print(row['column_name'], row['gini_split'])\n",
    "        new = oFig1.add_subplot(20,2, plot_index)  \n",
    "        temp_class_name = row['column_name']\n",
    "        print(temp_class_name)\n",
    "        unique_col_value = row['column_value']\n",
    "        gini_score = row['gini_score']\n",
    "        gini_split = row['gini_split']\n",
    "        values = row['distribution']\n",
    "        new.bar(class_names, values)\n",
    "        new.set_title(temp_class_name + \" is \" + str(unique_col_value) + \", gini: \" + f'{gini_score:.2f}' + \", gini split: \" + f'{gini_split:.2f}', fontsize=20)\n",
    "        plot_index+=1\n",
    "\n",
    "    oFig1.savefig(\"../d3/static_tree/python_plots/\" + filename, pad_inches=0.4, bbox_inches=\"tight\")\n",
    "    plt.show()\n",
    "    \n",
    "make_attribute_plots(gini_split_df, 'node0')\n"
   ]
  },
  {
   "cell_type": "code",
   "execution_count": null,
   "metadata": {
    "collapsed": true
   },
   "outputs": [],
   "source": [
    "import numpy as np\n",
    "from matplotlib import pyplot as plt\n",
    "\n",
    "def make_tornado_chart(lows_list, values_list):\n",
    "\n",
    "    variables = ['Amphibian', 'Bird', 'Bug', 'Fish', 'Invertebrate', 'Mammal', 'Reptile']\n",
    "\n",
    "    base = 0\n",
    "\n",
    "    lows = np.array(\n",
    "        lows_list\n",
    "    )\n",
    "\n",
    "    values = np.array(\n",
    "       values_list\n",
    "    )\n",
    "\n",
    "    ###############################################################################\n",
    "    # The actual drawing part\n",
    "\n",
    "    # The y position for each variable\n",
    "    ys = range(len(values))[::-1]  # top to bottom\n",
    "\n",
    "    colors = 'red orange yellow green blue purple brown'.split()\n",
    "    # Plot the bars, one by one\n",
    "    for y, low, value, color in zip(ys, lows, values, colors):\n",
    "        # The width of the 'low' and 'high' pieces\n",
    "        low_width = base - low\n",
    "    #     high_width = low + value - base\n",
    "        high_width = value\n",
    "\n",
    "        # Each bar is a \"broken\" horizontal bar chart\n",
    "         # Each bar is a \"broken\" horizontal bar chart\n",
    "        plt.broken_barh(\n",
    "            [(low, low_width), (base, high_width)],\n",
    "            (y - 0.4, 0.8),\n",
    "            facecolors=[color, color],  # Try different colors if you like\n",
    "            edgecolors=['black', 'black'],\n",
    "            linewidth=1,\n",
    "        )\n",
    "\n",
    "        # Display the value as text. It should be positioned in the center of\n",
    "        # the 'high' bar, except if there isn't any room there, then it should be\n",
    "        # next to bar instead.\n",
    "        x = base + high_width / 2\n",
    "        if x <= base + 50:\n",
    "            x = base + high_width + 50\n",
    "    #     plt.text(x, y, str(value), va='center', ha='center')\n",
    "\n",
    "    # # Plot the bars, one by one\n",
    "    # for y, low, value in zip(ys, lows, values):\n",
    "    #     # The width of the 'low' and 'high' pieces\n",
    "    #     low_width = base - low\n",
    "    # #     high_width = low + value - base\n",
    "    #     high_width = value\n",
    "\n",
    "    #     # Each bar is a \"broken\" horizontal bar chart\n",
    "    #      # Each bar is a \"broken\" horizontal bar chart\n",
    "    #     plt.broken_barh(\n",
    "    #         [(low, low_width), (base, high_width)],\n",
    "    #         (y + 7 - 0.4, 0.8),\n",
    "    #         facecolors=['black', 'blue'],  # Try different colors if you like\n",
    "    #         edgecolors=['black', 'black'],\n",
    "    #         linewidth=1,\n",
    "    #     )\n",
    "\n",
    "    #     # Display the value as text. It should be positioned in the center of\n",
    "    #     # the 'high' bar, except if there isn't any room there, then it should be\n",
    "    #     # next to bar instead.\n",
    "    #     x = base + high_width / 2\n",
    "    #     if x <= base + 50:\n",
    "    #         x = base + high_width + 50\n",
    "    # #     plt.text(x, y, str(value), va='center', ha='center')\n",
    "\n",
    "    # Draw a vertical line down the middle\n",
    "    plt.axvline(base, color='black')\n",
    "\n",
    "    # Position the x-axis on the top, hide all the other spines (=axis lines)\n",
    "    axes = plt.gca()  # (gca = get current axes)\n",
    "    axes.spines['left'].set_visible(False)\n",
    "    axes.spines['right'].set_visible(False)\n",
    "    axes.spines['bottom'].set_visible(False)\n",
    "    axes.xaxis.set_ticks_position('top')\n",
    "\n",
    "    # Make the y-axis display the variables\n",
    "    plt.yticks(ys, variables)\n",
    "\n",
    "    # Set the portion of the x- and y-axes to show\n",
    "    plt.xlim(base - 50, base + 50)\n",
    "    plt.ylim(-1, len(variables))\n",
    "    plt.show()\n",
    "    return plt\n",
    "    \n",
    "\n",
    "lows_list =  [ -4, -20, -8, -13, -10, -0, -5\t]\n",
    "highs_list = [11, 0, 0, 0, 0, 41, 0]\n",
    "make_tornado_chart(lows_list, highs_list)"
   ]
  },
  {
   "cell_type": "code",
   "execution_count": null,
   "metadata": {
    "collapsed": true
   },
   "outputs": [],
   "source": [
    "\n",
    "filename = 'tornado'\n",
    "oFig1 = plt.figure(1, figsize=(10,20))\n",
    "#     filename = 'node0'\n",
    "\n",
    "plot_index = 1\n",
    "for x in set(gini_split_df['column_name']):\n",
    "    print(x)\n",
    "    subset = gini_split_df[gini_split_df['column_name']==x]\n",
    "#     print(subset)\n",
    "    row0 = subset.iloc[0]\n",
    "    row1 = subset.iloc[1]\n",
    "    lows_list =  [ -4, -20, -8, -13, -10, -0, -5\t]\n",
    "    highs_list = [11, 0, 0, 0, 0, 41, 0]\n",
    "    plt = make_tornado_chart(lows_list, highs_list)\n",
    "    \n",
    "\n",
    "oFig1.savefig(\"../d3/static_tree/python_plots/\" + filename, pad_inches=0.4, bbox_inches=\"tight\")\n",
    "plt.show()\n",
    "\n"
   ]
  },
  {
   "cell_type": "code",
   "execution_count": null,
   "metadata": {
    "collapsed": true
   },
   "outputs": [],
   "source": [
    "for x in set(gini_split_df['column_name']):\n",
    "    print(x)"
   ]
  },
  {
   "cell_type": "code",
   "execution_count": null,
   "metadata": {
    "collapsed": true
   },
   "outputs": [],
   "source": [
    "df_milk_is_1 = df_class[df_class['milk']==1]\n",
    "make_attribute_view(df_milk_is_1, 'node18')\n",
    "\n",
    "df_milk_is_11 = df_class[df_class['milk']==0]\n",
    "make_attribute_view(df_milk_is_11, 'node1')"
   ]
  },
  {
   "cell_type": "code",
   "execution_count": null,
   "metadata": {
    "collapsed": true
   },
   "outputs": [],
   "source": [
    "make_attribute_plots(gini_split_df, 'node0')"
   ]
  },
  {
   "cell_type": "code",
   "execution_count": null,
   "metadata": {
    "collapsed": true
   },
   "outputs": [],
   "source": [
    "hist_vals = df_class['class_name'].value_counts(sort=False)\n",
    "plt.bar(hist_vals.index.values, hist_vals.values)"
   ]
  },
  {
   "cell_type": "code",
   "execution_count": null,
   "metadata": {
    "collapsed": true
   },
   "outputs": [],
   "source": []
  },
  {
   "cell_type": "code",
   "execution_count": null,
   "metadata": {
    "collapsed": true
   },
   "outputs": [],
   "source": [
    "export_graphviz(dtree, out_file='zoo.dot',  \n",
    "                filled=True, rounded=True,\n",
    "                special_characters=True, feature_names = X_train.columns, class_names=list(class_only['class_name'].unique()))"
   ]
  },
  {
   "cell_type": "code",
   "execution_count": null,
   "metadata": {
    "collapsed": true
   },
   "outputs": [],
   "source": [
    "dot_string= dot_data.getvalue()\n",
    "x = dot_string.replace(\"&le;\", \"<=\") #.replace(\"&#35;\", \"->\")\n",
    "x = x.replace(\"\\n\", \"\")\n",
    "x = x.replace(\"<br/>\", \",\")\n",
    "x = x.replace(\"label=<\", \"\")\n",
    "x = x.split(\";\")\n",
    "x = x[2:-1]"
   ]
  },
  {
   "cell_type": "code",
   "execution_count": null,
   "metadata": {
    "collapsed": true
   },
   "outputs": [],
   "source": [
    "import re\n",
    "edge_list =[]\n",
    "node_list =[]\n",
    "element_regex = re.compile(r'.+->.+')\n",
    "for i in x:\n",
    "    if element_regex.match(i):\n",
    "        edge_list.append(i)\n",
    "    else:\n",
    "        node_list.append(i)"
   ]
  },
  {
   "cell_type": "code",
   "execution_count": null,
   "metadata": {
    "collapsed": true
   },
   "outputs": [],
   "source": [
    "edge_df = pd.DataFrame(columns=['current_node', 'parent_node'])\n",
    "for i in range(0, len(edge_list)):\n",
    "    print(edge_list[i])\n",
    "    pattern = \"(\\d+)\"\n",
    "    a = re.findall(pattern, edge_list[i])\n",
    "    source = a[0]\n",
    "    destination = a[1]\n",
    "    edge_df = edge_df.append({'current_node': destination, 'parent_node': source}, ignore_index=True)\n",
    "edge_df"
   ]
  },
  {
   "cell_type": "code",
   "execution_count": null,
   "metadata": {
    "collapsed": true,
    "scrolled": true
   },
   "outputs": [],
   "source": [
    "\n",
    "import matplotlib.pyplot as plt\n",
    "import numpy as np\n",
    "from matplotlib.pyplot import figure\n"
   ]
  },
  {
   "cell_type": "code",
   "execution_count": null,
   "metadata": {
    "collapsed": true
   },
   "outputs": [],
   "source": [
    "x=np.arange(10)\n",
    "x.shape\n",
    "np.ones(x.shape)*0.4"
   ]
  },
  {
   "cell_type": "code",
   "execution_count": null,
   "metadata": {
    "collapsed": true
   },
   "outputs": [],
   "source": []
  },
  {
   "cell_type": "code",
   "execution_count": null,
   "metadata": {
    "collapsed": true
   },
   "outputs": [],
   "source": [
    "import seaborn as sns; sns.set()\n",
    "sns.palplot(sns.color_palette())\n",
    "def get_node_string(orig):\n",
    "    print(orig)\n",
    "    \n",
    "    # parse and retrieve value\n",
    "    node_name = re.search('^\\d+', orig).group(0)\n",
    "    samples = re.search('samples = (\\d+)', orig).group(1)\n",
    "    gini = re.search('gini = (\\d+.\\d+)', orig).group(1)\n",
    "    class_name = re.search('class = (\\w+)', orig).group(1)\n",
    "    color = re.search('fillcolor=(.+\")', orig).group(1)\n",
    "    value =  re.search( 'value = (.+]),', orig).group(1)\n",
    "    new_value = value.replace('[', '').replace(']', '').split(\",\")\n",
    "    \n",
    "    \n",
    "    #make figure:\n",
    "    fig, (ax1, ax2) = plt.subplots(1,2, gridspec_kw = {'width_ratios':[1, 3]}, figsize=(4, 2))\n",
    "    \n",
    "    #gini plot\n",
    "    ax1.set_title('gini')\n",
    "    ax1.bar(0, float(gini), color='darkred')\n",
    "    ax1.get_xaxis().set_visible(False)\n",
    "    \n",
    "    \n",
    "    #class distribution plot\n",
    "    ax2.set_title('class distribution')\n",
    "    plot_class_names = list(class_only['class_name'])\n",
    "    _X = np.arange(len(plot_class_names))\n",
    "    print(new_value)\n",
    "    new_new_value = [int(x) for x in new_value]\n",
    "    ax2.bar(plot_class_names, new_new_value, color=sns.color_palette(\"Paired\")[0:8])\n",
    "    ax2.set_ylim(0, 45)\n",
    "\n",
    "   \n",
    "    \n",
    "    plt.setp(ax2.xaxis.get_majorticklabels(), rotation=90)\n",
    "    \n",
    "    plot_name = 'plots/'+'gini' + str(node_name) + '.png'\n",
    "    plt.show()\n",
    "    \n",
    "    temp_row = {'current_node': node_name, 'gini': gini, 'samples': samples, 'class_name': class_name, 'color': color, 'value': value, 'plot_name': plot_name}\n",
    "    \n",
    "    #check if gini is in the first result\n",
    "    s = orig.split(',')\n",
    "    pattern = 'gini'\n",
    "    gini_match = re.search(pattern, s[0])\n",
    "    \n",
    "    if gini_match is None: \n",
    "        attribute = s[0].split(\"[\")[1]\n",
    "        temp_row['attribute']= attribute\n",
    "   \n",
    "        \n",
    "    return (temp_row, fig)"
   ]
  },
  {
   "cell_type": "code",
   "execution_count": null,
   "metadata": {
    "collapsed": true
   },
   "outputs": [],
   "source": []
  },
  {
   "cell_type": "code",
   "execution_count": null,
   "metadata": {
    "collapsed": true
   },
   "outputs": [],
   "source": [
    "ult_df = pd.DataFrame(columns=['current_node', 'attribute', 'gini', 'samples', 'value', 'class_name', 'color', 'plot_name'])\n",
    "# ult_df = df_.fillna(0) # with 0s rather than NaNs\n",
    "ult_df"
   ]
  },
  {
   "cell_type": "code",
   "execution_count": null,
   "metadata": {
    "collapsed": true
   },
   "outputs": [],
   "source": [
    "node_list"
   ]
  },
  {
   "cell_type": "code",
   "execution_count": null,
   "metadata": {
    "collapsed": true
   },
   "outputs": [],
   "source": [
    "ult_list = {}\n",
    "for i in range(0, len(node_list)):\n",
    "    (node_string, fig) = get_node_string(node_list[i])\n",
    "    ult_df = ult_df.append(node_string, ignore_index=True)\n",
    "    fig.savefig('../treant-js/examples/decision-tree/' + node_string['plot_name'], pad_inches=0.4, bbox_inches=\"tight\")"
   ]
  },
  {
   "cell_type": "code",
   "execution_count": null,
   "metadata": {
    "collapsed": true
   },
   "outputs": [],
   "source": [
    "ult_df"
   ]
  },
  {
   "cell_type": "code",
   "execution_count": null,
   "metadata": {
    "collapsed": true
   },
   "outputs": [],
   "source": [
    "new_df = ult_df.merge(edge_df, on='current_node', how='outer')\n",
    "new_df\n",
    "# new_df.fillna(0)"
   ]
  },
  {
   "cell_type": "code",
   "execution_count": null,
   "metadata": {
    "collapsed": true
   },
   "outputs": [],
   "source": [
    "make_attribute_view(df_class, 'node0')"
   ]
  },
  {
   "cell_type": "code",
   "execution_count": null,
   "metadata": {
    "collapsed": true
   },
   "outputs": [],
   "source": [
    "make_attribute_view(df_class[df_class['milk'] > 0.5], 'node18')"
   ]
  },
  {
   "cell_type": "code",
   "execution_count": null,
   "metadata": {
    "collapsed": true
   },
   "outputs": [],
   "source": [
    "make_attribute_view(df_class[df_class['milk'] <= 0.5], 'node1')"
   ]
  },
  {
   "cell_type": "code",
   "execution_count": null,
   "metadata": {
    "collapsed": true
   },
   "outputs": [],
   "source": [
    "full_string = \"\"\n",
    "for index, row in new_df.iterrows():\n",
    "    node_name = row['current_node']\n",
    "    attribute = row['attribute']\n",
    "    plot_name = row['plot_name']\n",
    "    samples = row['samples']\n",
    "    class_name = row['class_name']\n",
    "    value = row['value']\n",
    "    gini = row['gini']\n",
    "    if node_name=='0':\n",
    "        result = 'node'+ str(node_name) + ' = {'\\\n",
    "        + 'text: { gini: \"gini:' + gini \\\n",
    "        + '\", samples: \"samples: ' + samples \\\n",
    "        + '\", attribute: \"attribute: ' + str(attribute) \\\n",
    "        + '\", class_name: \"class_name: ' + class_name \\\n",
    "        + '\", value: \"value: ' + value \\\n",
    "        + '\"},'\\\n",
    "        + 'connectors: {type: \"curve\", style: {\"stroke-width\": ' + str(int(samples)/5) + '}},' \\\n",
    "        + 'image:\"' + plot_name + '\"},'\n",
    "    else:\n",
    "        parent = row['parent_node']\n",
    "        result = 'node'+ str(node_name) + ' = {' + \"parent: node\" + str(parent) \\\n",
    "        + ', text: {' \\\n",
    "        + 'gini: \"gini: ' + gini \\\n",
    "        + '\", samples: \"samples: ' + samples \\\n",
    "        + '\", attribute: \"attribute: ' + str(attribute) \\\n",
    "        + '\", class_name: \"class_name: ' + class_name \\\n",
    "        + '\", value: \"value: ' + value \\\n",
    "        + '\"},'\\\n",
    "        + 'connectors: {type: \"curve\", style: {\"stroke-width\": ' + str(int(samples)/5) + '}},' \\\n",
    "        + 'image:\"' + plot_name + '\"},' \n",
    "        \n",
    "        \n",
    "#     print(result)\n",
    "    full_string+=result\n",
    "    \n",
    "    \n",
    "#         + 'connectors: {type: \"step\", style: {\"stroke-width\": 2}},' \\\n"
   ]
  },
  {
   "cell_type": "code",
   "execution_count": null,
   "metadata": {
    "collapsed": true
   },
   "outputs": [],
   "source": [
    "first_part = 'var config = {container: \"#basic-example\", levelSeparation: 200, connectors: {type: \"curve\", style: { \"stroke-width\": 5}}, node: { HTMLclass: \"nodeExample1\"}}, '\n",
    "last_part = \"chart_config = [config,\" + ','.join(['node' + str(x) for x in list(new_df['current_node'].keys())])+'];'\n",
    "whole_string = first_part + full_string + last_part\n",
    "text_file = open(\"../treant-js/examples/decision-tree/basic-example.js\", \"w\")\n",
    "text_file.write(whole_string)\n",
    "text_file.close()"
   ]
  },
  {
   "cell_type": "code",
   "execution_count": null,
   "metadata": {
    "collapsed": true,
    "scrolled": true
   },
   "outputs": [],
   "source": [
    "whole_string"
   ]
  },
  {
   "cell_type": "code",
   "execution_count": null,
   "metadata": {
    "collapsed": true
   },
   "outputs": [],
   "source": []
  },
  {
   "cell_type": "code",
   "execution_count": null,
   "metadata": {
    "collapsed": true
   },
   "outputs": [],
   "source": []
  },
  {
   "cell_type": "code",
   "execution_count": null,
   "metadata": {
    "collapsed": true
   },
   "outputs": [],
   "source": []
  },
  {
   "cell_type": "code",
   "execution_count": null,
   "metadata": {
    "collapsed": true
   },
   "outputs": [],
   "source": []
  }
 ],
 "metadata": {
  "kernelspec": {
   "display_name": "Python 3",
   "language": "python",
   "name": "python3"
  },
  "language_info": {
   "codemirror_mode": {
    "name": "ipython",
    "version": 3
   },
   "file_extension": ".py",
   "mimetype": "text/x-python",
   "name": "python",
   "nbconvert_exporter": "python",
   "pygments_lexer": "ipython3",
   "version": "3.6.8"
  }
 },
 "nbformat": 4,
 "nbformat_minor": 2
}
