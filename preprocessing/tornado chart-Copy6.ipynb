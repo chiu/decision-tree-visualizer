{
 "cells": [
  {
   "cell_type": "code",
   "execution_count": 5,
   "metadata": {},
   "outputs": [
    {
     "name": "stderr",
     "output_type": "stream",
     "text": [
      "/anaconda/envs/dt/lib/python3.6/site-packages/matplotlib/cbook/deprecation.py:107: MatplotlibDeprecationWarning: Adding an axes using the same arguments as a previous axes currently reuses the earlier instance.  In a future version, a new instance will always be created and returned.  Meanwhile, this warning can be suppressed, and the future behavior ensured, by passing a unique label to each axes instance.\n",
      "  warnings.warn(message, mplDeprecation, stacklevel=1)\n"
     ]
    },
    {
     "data": {
      "image/png": "[encoded data removed]",
      "text/plain": [
       "<Figure size 1440x5760 with 2 Axes>"
      ]
     },
     "metadata": {},
     "output_type": "display_data"
    }
   ],
   "source": [
    "import numpy as np\n",
    "from matplotlib import pyplot as plt\n",
    "\n",
    "def make_tornado_chart(lows_list, values_list, oFig1, plot_index):\n",
    "\n",
    "    variables = ['Amphibian', 'Bird', 'Bug', 'Fish', 'Invertebrate', 'Mammal', 'Reptile']\n",
    "\n",
    "    base = 0\n",
    "\n",
    "    lows = np.array(\n",
    "        lows_list\n",
    "    )\n",
    "\n",
    "    values = np.array(\n",
    "       values_list\n",
    "    )\n",
    "\n",
    "    ###############################################################################\n",
    "    # The actual drawing part\n",
    "\n",
    "    # The y position for each variable\n",
    "    ys = range(len(values))[::-1]  # top to bottom\n",
    "\n",
    "    colors = 'red orange yellow green blue purple brown'.split()\n",
    "    # Plot the bars, one by one\n",
    "    for y, low, value, color in zip(ys, lows, values, colors):\n",
    "        # The width of the 'low' and 'high' pieces\n",
    "        low_width = base - low\n",
    "    #     high_width = low + value - base\n",
    "        high_width = value\n",
    "\n",
    "        # Each bar is a \"broken\" horizontal bar chart\n",
    "         # Each bar is a \"broken\" horizontal bar chart\n",
    "        plt = oFig1.add_subplot(20, 1, plot_index)\n",
    "        plt.broken_barh(\n",
    "            [(low, low_width), (base, high_width)],\n",
    "            (y - 0.4, 0.8),\n",
    "            facecolors=[color, color],  # Try different colors if you like\n",
    "            edgecolors=['black', 'black'],\n",
    "            linewidth=1,\n",
    "        )\n",
    "\n",
    "        # Display the value as text. It should be positioned in the center of\n",
    "        # the 'high' bar, except if there isn't any room there, then it should be\n",
    "        # next to bar instead.\n",
    "        x = base + high_width / 2\n",
    "        if x <= base + 50:\n",
    "            x = base + high_width + 50\n",
    "    #     plt.text(x, y, str(value), va='center', ha='center')\n",
    "\n",
    "    # Draw a vertical line down the middle\n",
    "    plt.axvline(base, color='black')\n",
    "\n",
    "    # Position the x-axis on the top, hide all the other spines (=axis lines)\n",
    "  \n",
    "\n",
    "    axes = plt\n",
    "    plt.spines['left'].set_visible(False)\n",
    "    axes.spines['right'].set_visible(False)\n",
    "    axes.spines['bottom'].set_visible(False)\n",
    "    axes.xaxis.set_ticks_position('top')\n",
    "\n",
    "    # Make the y-axis display the variables\n",
    "#     plt.yticks(ys, variables)\n",
    "    plt.set_yticks(ys, variables)\n",
    "    \n",
    "    # Set the portion of the x- and y-axes to show\n",
    "    plt.set_xlim(base - 50, base + 50)\n",
    "    plt.set_ylim(-1, len(variables))\n",
    " \n",
    "    plt.set_title(\"plot number\" + str(plot_index))\n",
    "#     plt.show()\n",
    "    \n",
    "\n",
    "lows_list =  [ -4, -20, -8, -13, -10, -0, -5\t]\n",
    "highs_list = [11, 0, 0, 0, 0, 41, 0]\n",
    "\n",
    "oFig1 = plt.figure(1, figsize=(20, 80))\n",
    "\n",
    "for i in range(1, 3):\n",
    "    make_tornado_chart(lows_list, highs_list, oFig1, i)"
   ]
  },
  {
   "cell_type": "code",
   "execution_count": 2,
   "metadata": {},
   "outputs": [
    {
     "name": "stdout",
     "output_type": "stream",
     "text": [
      "2.2.2\n"
     ]
    }
   ],
   "source": [
    "import matplotlib\n",
    "print(matplotlib.__version__)"
   ]
  },
  {
   "cell_type": "code",
   "execution_count": null,
   "metadata": {},
   "outputs": [],
   "source": []
  },
  {
   "cell_type": "code",
   "execution_count": null,
   "metadata": {},
   "outputs": [],
   "source": []
  }
 ],
 "metadata": {
  "kernelspec": {
   "display_name": "Python 3",
   "language": "python",
   "name": "python3"
  },
  "language_info": {
   "codemirror_mode": {
    "name": "ipython",
    "version": 3
   },
   "file_extension": ".py",
   "mimetype": "text/x-python",
   "name": "python",
   "nbconvert_exporter": "python",
   "pygments_lexer": "ipython3",
   "version": "3.6.5"
  }
 },
 "nbformat": 4,
 "nbformat_minor": 2
}
